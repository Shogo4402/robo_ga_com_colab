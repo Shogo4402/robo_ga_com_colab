{
 "cells": [
  {
   "cell_type": "code",
   "execution_count": 78,
   "id": "32137fb0",
   "metadata": {},
   "outputs": [],
   "source": [
    "import sys\n",
    "sys.path.append(\"C:\\\\Users\\\\yosiiiir\\\\Study_M2\\\\robo_ga_com\")\n",
    "import numpy as np\n",
    "import math\n",
    "import tool.robot_function as rof\n",
    "import tool.rw_function as rwf"
   ]
  },
  {
   "cell_type": "code",
   "execution_count": 179,
   "id": "c6e15d97",
   "metadata": {},
   "outputs": [],
   "source": [
    "fuzzy1_paras = {\"out_level1\":3,\n",
    "                \"fuzzy_rule1\" :np.array([[[0,1,2],[0,1,1],[0,0,0]],[[1,2,2],[1,1,1],[0,0,0]],[[2,2,2],[1,1,1],[0,0,0]]]),\n",
    "                \"set_types1\" :[1,1,1,-1],\n",
    "                \"Kch1\" : True\n",
    "               }\n",
    "\n",
    "fuzzy2_paras = {\"out_level2\": 7,\n",
    "                \"fuzzy_rule2\":np.array([[0,0,0,1,2,3,4],[0,0,1,1,2,3,4],[0,1,1,2,3,4,5],[0,1,2,3,4,5,6],[1,2,3,4,5,5,6],[2,3,4,5,5,6,6],[2,3,4,5,6,6,6]]),\n",
    "                \"set_types2\": [0,0,0],\n",
    "                \"Kch2\" : True\n",
    "               }\n",
    "robot1 = rof.obj_func(fuzzy_rule1 = fuzzy1_paras[\"fuzzy_rule1\"],\n",
    "                           set_types1 = fuzzy1_paras[\"set_types1\"],\n",
    "                           out_level1 = fuzzy1_paras[\"out_level1\"],\n",
    "                           fuzzy_rule2 = fuzzy2_paras[\"fuzzy_rule2\"],\n",
    "                           set_types2 = fuzzy2_paras[\"set_types2\"],\n",
    "                           out_level2 = fuzzy2_paras[\"out_level2\"],\n",
    "                           object_items = [\"end_time\"])\n",
    "\n",
    "divi1 =  rwf.output_divi(fuzzy1_paras[\"fuzzy_rule1\"],fuzzy1_paras[\"set_types1\"],fuzzy1_paras[\"Kch1\"],fuzzy1_paras[\"out_level1\"])\n",
    "divi2 =  rwf.output_divi( fuzzy2_paras[\"fuzzy_rule2\"], fuzzy2_paras[\"set_types2\"], fuzzy2_paras[\"Kch2\"], fuzzy2_paras[\"out_level2\"])\n",
    "divi_list = divi1+divi2"
   ]
  },
  {
   "cell_type": "code",
   "execution_count": 180,
   "id": "7457e240",
   "metadata": {},
   "outputs": [],
   "source": [
    "#個体のパラメータ\n",
    "X = [0.090368595,0.940329659,284.5358381,77.55445126,112.1853415,420.3211786,179.009362,167.5195586,0.589438159,0.739870936,0.738117933,175.7065886,191.7251473,64.24495179,100.3265892,198.5372854,195.5793141]\n",
    "Kis = rwf.Ks_divi(X,divi_list)"
   ]
  },
  {
   "cell_type": "code",
   "execution_count": 213,
   "id": "2cb9aec3",
   "metadata": {},
   "outputs": [],
   "source": [
    "def one_step(robot,time_interval,time_detail): #time_intervalは1ステップ何秒であるかを指定する\n",
    "    #制御周期か否か判断\n",
    "    time_judge = ((robot.sum_time*10.0)/(time_interval*10.0)).is_integer()\n",
    "    if time_judge:\n",
    "        judge_pose_estimation = 0 ###本来は1\n",
    "        nu,omega=robot.decision(robot.pose)\n",
    "        robot.nu_m,robot.omega = nu,omega #速度・角速度更新\n",
    "    else:\n",
    "        judge_pose_estimation = 0\n",
    "        nu,omega= robot.nu_m,robot.omega\n",
    "    robot.sum_time = (robot.sum_time*10+(10*time_detail))/10 #合計時間\n",
    "    \n",
    "    #pose記録\n",
    "    robot.li1.append(robot.pose[0])\n",
    "    robot.li2.append(robot.pose[1])\n",
    "    robot.li3.append(robot.pose[2])\n",
    "    robot.now_nos.append(robot.now_no)\n",
    "    #time_detail秒後の自己位置計算\n",
    "    if judge_pose_estimation:\n",
    "        #位置更新\n",
    "        pass\n",
    "    else:\n",
    "        robot.pose=robot.state_transition(robot.nu_m,omega,robot.time_detail,robot.pose)\n",
    "        \n",
    "    if robot.pose[2] >= 2*math.pi:\n",
    "        robot.pose[2]=robot.pose[2] - 2*math.pi\n",
    "    elif robot.pose[2] < 0:\n",
    "        robot.pose[2] = robot.pose[2] +2*math.pi\n",
    "    #目標切り替えのための軌跡登録\n",
    "    robot.orbit_register(robot.pose)\n",
    "    return robot.move_end,judge_pose_estimation"
   ]
  },
  {
   "cell_type": "code",
   "execution_count": 214,
   "id": "ebb5d1de",
   "metadata": {},
   "outputs": [],
   "source": [
    "#ファジィ制御生成+軌道点作成\n",
    "lms = np.array([[0,0],[0,0.5],[0,1],[0,1.5],[0,2]])\n",
    "robot1.fuzzy_produce(Kis,lms)\n",
    "robot1.fpos = np.array([1,0,math.pi/2])\n",
    "robot1.lms3 = lms\n",
    "robot1.reset_init()\n",
    "robot1.no_len = len(lms)\n",
    "robot1.goal_no = 3"
   ]
  },
  {
   "cell_type": "code",
   "execution_count": 217,
   "id": "9d40c697",
   "metadata": {
    "scrolled": true
   },
   "outputs": [],
   "source": [
    "count = 0\n",
    "for i in range(int(20/0.1)+1):\n",
    "    move_end,judge_pose_estimation = one_step(robot1,0.5,0.1)\n",
    "    if judge_pose_estimation:\n",
    "        count += 1\n",
    "    if move_end==True:\n",
    "        arrvial_time = float(i/10)\n",
    "        break"
   ]
  },
  {
   "cell_type": "code",
   "execution_count": 218,
   "id": "d863dec9",
   "metadata": {},
   "outputs": [
    {
     "data": {
      "image/png": "[encoded data removed]",
      "text/plain": [
       "<Figure size 432x288 with 1 Axes>"
      ]
     },
     "metadata": {
      "needs_background": "light"
     },
     "output_type": "display_data"
    }
   ],
   "source": [
    "import matplotlib.pyplot as plt\n",
    "plt.scatter(robot1.li1,robot1.li2)\n",
    "plt.xlim([-1,1])\n",
    "plt.show()"
   ]
  },
  {
   "cell_type": "code",
   "execution_count": 225,
   "id": "f6c7b724",
   "metadata": {},
   "outputs": [],
   "source": [
    "a = np.array([[0,0,0],[0,0,0],[1,1,0]]).reshape(-1,3,3)"
   ]
  },
  {
   "cell_type": "code",
   "execution_count": 238,
   "id": "edfd7801",
   "metadata": {},
   "outputs": [],
   "source": [
    "b = np.array([[[1,2,3],[3,4,5],[6,7,8]],[[1,2,3],[3,4,5],[1,2,8]],[[1,2,3],[3,4,5],[3,4,8]]])"
   ]
  },
  {
   "cell_type": "code",
   "execution_count": 239,
   "id": "bdaa932c",
   "metadata": {},
   "outputs": [],
   "source": [
    "c = a*b"
   ]
  },
  {
   "cell_type": "code",
   "execution_count": 240,
   "id": "963d32a9",
   "metadata": {},
   "outputs": [],
   "source": [
    "c  =c.astype(\"int8\")"
   ]
  },
  {
   "cell_type": "code",
   "execution_count": 241,
   "id": "efdb25e5",
   "metadata": {},
   "outputs": [
    {
     "data": {
      "text/plain": [
       "dtype('int8')"
      ]
     },
     "execution_count": 241,
     "metadata": {},
     "output_type": "execute_result"
    }
   ],
   "source": [
    "c.dtype"
   ]
  },
  {
   "cell_type": "code",
   "execution_count": 242,
   "id": "30238026",
   "metadata": {},
   "outputs": [
    {
     "data": {
      "text/plain": [
       "array([[[0, 0, 0],\n",
       "        [0, 0, 0],\n",
       "        [6, 7, 0]],\n",
       "\n",
       "       [[0, 0, 0],\n",
       "        [0, 0, 0],\n",
       "        [1, 2, 0]],\n",
       "\n",
       "       [[0, 0, 0],\n",
       "        [0, 0, 0],\n",
       "        [3, 4, 0]]], dtype=int8)"
      ]
     },
     "execution_count": 242,
     "metadata": {},
     "output_type": "execute_result"
    }
   ],
   "source": [
    "c"
   ]
  },
  {
   "cell_type": "code",
   "execution_count": null,
   "id": "d6f4d391",
   "metadata": {},
   "outputs": [],
   "source": []
  }
 ],
 "metadata": {
  "kernelspec": {
   "display_name": "Python 3 (ipykernel)",
   "language": "python",
   "name": "python3"
  },
  "language_info": {
   "codemirror_mode": {
    "name": "ipython",
    "version": 3
   },
   "file_extension": ".py",
   "mimetype": "text/x-python",
   "name": "python",
   "nbconvert_exporter": "python",
   "pygments_lexer": "ipython3",
   "version": "3.9.12"
  }
 },
 "nbformat": 4,
 "nbformat_minor": 5
}

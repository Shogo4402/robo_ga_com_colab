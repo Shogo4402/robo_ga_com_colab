{
 "cells": [
  {
   "cell_type": "code",
   "execution_count": 8,
   "id": "292c61e5",
   "metadata": {},
   "outputs": [],
   "source": [
    "#自作モジュールimport\n",
    "import sys\n",
    "sys.path.append(\"C:\\\\Users\\\\yosiiiir\\\\Study_M2\\\\robo_ga_com\")\n",
    "import tool.tool1\n",
    "import tool.fuzzy_function as ff\n",
    "import tool.others_function as of\n",
    "import tool.result_function as rf\n",
    "import tool.robot_function as rof\n",
    "import tool.ea_function as eaf\n",
    "\n",
    "#必要な標準ライブラリimport\n",
    "import numpy as np\n",
    "import math\n",
    "import itertools\n",
    "import matplotlib.pyplot as plt\n",
    "\n",
    "#pymoo\n",
    "from pymoo.util.misc import stack\n",
    "from pymoo.optimize import minimize\n",
    "from pymoo.visualization.scatter import Scatter\n",
    "from pymoo.core.problem import Problem\n",
    "from pymoo.algorithms.moo.nsga2 import NSGA2\n",
    "from pymoo.algorithms.moo.rnsga2 import RNSGA2\n",
    "from pymoo.algorithms.soo.nonconvex.ga import GA\n",
    "from pymoo.operators.sampling.rnd import FloatRandomSampling\n",
    "from pymoo.operators.sampling.rnd import BinaryRandomSampling\n",
    "from pymoo.operators.crossover.sbx import SBX\n",
    "from pymoo.operators.mutation.pm import PolynomialMutation\n",
    "#from pymoo.factory import get_termination 非推奨\n",
    "from pymoo.termination import get_termination\n",
    "from pymoo.util import plotting"
   ]
  },
  {
   "cell_type": "code",
   "execution_count": 2,
   "id": "4ad88baa",
   "metadata": {},
   "outputs": [],
   "source": [
    "# 問題設定（自作関数）\n",
    "class MyProblem(Problem):\n",
    "    def __init__(self,out_level1,fuzzy_rule1,set_types1,low1,high1,Kch1,out_level2,fuzzy_rule2,set_types2,low2,high2,Kch2):\n",
    "        #######################変更する箇所###################################\n",
    "        #fuzzy1(走行速度型)\n",
    "        self.out_level1 = out_level1\n",
    "        self.fuzzy_rule1 = fuzzy_rule1\n",
    "        #self.fuzzy_rule1 = np.ones_like(self.fuzzy_rule1)*(-1)\n",
    "        #self.fuzzy_rule1 = np.array([[[0,1,2],[0,1,1],[0,0,0]],[[1,2,2],[1,1,1],[0,0,0]],[[2,2,2],[1,1,1],[0,0,0]]])\n",
    "        self.set_types1 = set_types1\n",
    "        self.low1 = low1\n",
    "        self.high1 = high1\n",
    "        self.Kch1 = Kch1\n",
    "        self.rule_Kch1 = np.any(self.fuzzy_rule1 == -1)\n",
    "        self.ruch_count1 = 0\n",
    "        self.ruch_countarr1 = False\n",
    "        \n",
    "        #fuzzy2(旋回速度型)\n",
    "        self.out_level2 = out_level2\n",
    "        '''self.fuzzy_rule2 = np.array([[0,0,0,0,1,2,2],\n",
    "                                     [0,0,1,1,2,3,3],\n",
    "                                     [0,1,1,2,3,4,4],\n",
    "                                     [1,1,2,3,4,5,5],\n",
    "                                     [2,2,3,4,5,5,6],\n",
    "                                     [3,3,4,5,5,6,6],\n",
    "                                     [4,4,5,6,6,6,6]])'''\n",
    "        #self.fuzzy_rule2 = np.ones_like(self.fuzzy_rule2)*(-1)\n",
    "        self.fuzzy_rule2 = fuzzy_rule2\n",
    "        #self.fuzzy_rule2 = np.array([[0,1,1,2,3],\n",
    "         #                            [1,1,2,3,4],\n",
    "          #                           [1,2,3,4,5],\n",
    "           #                          [2,3,4,5,5],\n",
    "            #                         [3,4,5,5,6]])\n",
    "        self.set_types2 = set_types2\n",
    "        self.low2 = low2\n",
    "        self.high2 = high2\n",
    "        self.Kch2 = True\n",
    "        self.rule_Kch2 = np.any(self.fuzzy_rule2 == -1)\n",
    "        self.ruch_count2 = 0\n",
    "        self.ruch_countarr2 = False\n",
    "        ########################################################################\n",
    "        \n",
    "        #遺伝子の個数，最小，最大，Kの分割リスト\n",
    "        self.n_var,self.xl,self.xu,self.divi_list = self.Ks_combine()\n",
    "        \n",
    "        #ここで予めファジィ制御の型を生成\n",
    "        self.obj_control = rof.obj_func(fuzzy_rule1 = self.fuzzy_rule1,\n",
    "                                 set_types1 = self.set_types1,\n",
    "                                 out_level1 = self.out_level1,\n",
    "                                 fuzzy_rule2 = self.fuzzy_rule2,\n",
    "                                 set_types2 = self.set_types2,\n",
    "                                 out_level2 = self.out_level2)\n",
    "        \n",
    "        super().__init__(n_var=self.n_var,\n",
    "                         n_obj=3,\n",
    "                         xl=self.xl,\n",
    "                         xu=self.xu,\n",
    "                         elementwise_evaluation=True\n",
    "                        )\n",
    "        \n",
    "    def _evaluate(self, x, out, *args, **kwargs):\n",
    "        lms = of.lms_produce(1,10)\n",
    "        f = []\n",
    "        for i in x:\n",
    "            i = i.tolist()\n",
    "            if self.ruch_count1!=0 or self.ruch_count2 != 0:\n",
    "                pop_set = self.Ks_divi_list(i[0:-(self.ruch_count1+self.ruch_count2)],self.divi_list)\n",
    "                self.obj_control.fuzzy_produce(pop_set,lms)\n",
    "                ruge_list = i[len(i[0:-(self.ruch_count1+self.ruch_count2)]):]\n",
    "                self.obj_control.fuzzy_rule1 = self.rule_changer(self.obj_control.fuzzy_rule1,self.ruch_count1,\n",
    "                                                        self.ruch_countarr1,ruge_list[0:self.ruch_count1])\n",
    "                self.obj_control.fuzzy_rule2 = self.rule_changer(self.obj_control.fuzzy_rule2,self.ruch_count2,\n",
    "                                                        self.ruch_countarr2,ruge_list[self.ruch_count1:self.ruch_count1+self.ruch_count2])\n",
    "            else:\n",
    "                pop_set = self.Ks_divi_list(i,self.divi_list)\n",
    "                self.obj_control.fuzzy_produce(pop_set,lms)\n",
    "            f.append(self.obj_control.move_to_obj())\n",
    "        out[\"F\"] = [f]\n",
    "        \n",
    "    def output_low_high(self,rule,set_types,low,high,Kch,out_level):\n",
    "        new_low = []\n",
    "        new_high = []\n",
    "        division_list = []\n",
    "        if set_types[-1]==0:\n",
    "            end_shape = out_level\n",
    "        else:\n",
    "            end_shape = out_level\n",
    "        shape_list = list(rule.shape)+[end_shape]\n",
    "        if Kch==False:\n",
    "            shape_list = [2]*len(shape_list)\n",
    "            \n",
    "        for r,t,l,h in zip(shape_list,set_types,low,high):\n",
    "            if t==0:\n",
    "                r = r//2+1\n",
    "            new_low.append(l*(r-1))\n",
    "            new_high.append(h*(r-1))\n",
    "            division_list.append(r-1)\n",
    "        return new_low,new_high,division_list\n",
    "    \n",
    "    def rule_change_count(self,end_level,fuzzy_rule):\n",
    "        low_list = []\n",
    "        high_list = []\n",
    "        count = np.count_nonzero(fuzzy_rule == -1)\n",
    "        count_arr = np.where(fuzzy_rule==-1)\n",
    "        if not count:\n",
    "            count=0\n",
    "            count_arr = False\n",
    "            return low_list,high_list,count,count_arr\n",
    "\n",
    "        for i in range(count):\n",
    "            low_list.append([0])\n",
    "            high_list.append([end_level])\n",
    "        return low_list,high_list,count,count_arr\n",
    "    \n",
    "    def rule_changer(self,fuzzy_rule,count,countarr,set_no):\n",
    "        if count==0:\n",
    "            return fuzzy_rule\n",
    "        else:\n",
    "            for x,y,s in zip(countarr[0],countarr[1],set_no):\n",
    "                fuzzy_rule[x][y]=int(s)\n",
    "        return fuzzy_rule\n",
    "    \n",
    "    def Ks_combine(self):\n",
    "        rule_low1=[[]]\n",
    "        rule_high1=[[]]\n",
    "        rule_low2=[[]]\n",
    "        rule_high2=[[]]\n",
    "        if self.rule_Kch1:\n",
    "            rule_low1,rule_high1,self.ruch_count1,self.ruch_countarr1 = self.rule_change_count(self.out_level1,self.fuzzy_rule1)\n",
    "        if self.rule_Kch2:\n",
    "            rule_low2,rule_high2 ,self.ruch_count2,self.ruch_countarr2= self.rule_change_count(self.out_level2,self.fuzzy_rule2)\n",
    "        \n",
    "        new_low1,new_high1,divi1 = self.output_low_high(self.fuzzy_rule1,self.set_types1,self.low1,self.high1,self.Kch1,self.out_level1)\n",
    "        new_low2,new_high2,divi2 = self.output_low_high(self.fuzzy_rule2,self.set_types2,self.low2,self.high2,self.Kch2,self.out_level2)\n",
    "        low = list(itertools.chain.from_iterable(new_low1+new_low2+rule_low1+rule_low2))\n",
    "        high = list(itertools.chain.from_iterable(new_high1+new_high2+rule_high1+rule_high2))\n",
    "        divi_li = divi1+divi2\n",
    "        n_var = len(low)\n",
    "        xl=np.array(low)\n",
    "        xu=np.array(high)\n",
    "        return n_var,xl,xu,divi_li\n",
    "\n",
    "    def Ks_divi_list(self,pli,divi_li):\n",
    "        Ks_list = []\n",
    "        n = 0\n",
    "        for d in divi_li:\n",
    "            Ks_list.append(pli[n:n+d:1])\n",
    "            n += d\n",
    "        return Ks_list"
   ]
  },
  {
   "cell_type": "code",
   "execution_count": 9,
   "id": "3bfd3961",
   "metadata": {},
   "outputs": [
    {
     "name": "stdout",
     "output_type": "stream",
     "text": [
      "GA START!\n",
      "==========================================================\n",
      "n_gen  |  n_eval  | n_nds  |      eps      |   indicator  \n",
      "==========================================================\n",
      "     1 |       50 |      5 |             - |             -\n",
      "     2 |      100 |      4 |  6.3036529680 |         ideal\n",
      "     3 |      150 |      4 |  0.000000E+00 |             f\n",
      "     4 |      200 |      9 |  0.8481276006 |         ideal\n",
      "     5 |      250 |      9 |  0.000000E+00 |             f\n",
      "     6 |      300 |     13 |  0.5862068966 |         nadir\n",
      "     7 |      350 |     14 |  0.0102631449 |             f\n",
      "     8 |      400 |     14 |  0.000000E+00 |             f\n",
      "     9 |      450 |     14 |  0.000000E+00 |             f\n",
      "    10 |      500 |     14 |  0.000000E+00 |             f\n",
      "計測時間 : 24.212778329849243[s]\n"
     ]
    }
   ],
   "source": [
    "optimization = True\n",
    "out_level1 = 3\n",
    "fuzzy_rule1 = np.array([[[0,1,2],[0,1,1],[0,0,0]],[[1,2,2],[1,1,1],[0,0,0]],[[2,2,2],[1,1,1],[0,0,0]]])\n",
    "set_types1 = [1,1,1,-1]\n",
    "low1 = [[math.pi/180],[1],[1],[50]]\n",
    "high1 = [[math.pi/2],[500],[500],[180]]\n",
    "Kch1 = True\n",
    "        \n",
    "#fuzzy2(旋回速度型)\n",
    "out_level2 = 7\n",
    "fuzzy_rule2 = np.array([[-1,0,0,1,2,3,4],[0,0,1,1,2,3,4],[0,1,1,2,3,4,5],[0,1,2,3,4,5,6],[1,2,3,4,5,5,6],[2,3,4,5,5,6,6],[2,3,4,5,6,6,6]])\n",
    "set_types2 = [0,0,0]\n",
    "low2 = [[math.pi/180],[1],[100]]\n",
    "high2 = [[math.pi/2],[200],[200]]\n",
    "Kch2 = True\n",
    "\n",
    "if optimization:\n",
    "    problem = MyProblem(out_level1,fuzzy_rule1,set_types1,low1,high1,Kch1,out_level2,fuzzy_rule2,set_types2,low2,high2,Kch2)\n",
    "    # アルゴリズム初期化（NSGA-IIを使用）\n",
    "    # Define reference points\n",
    "    ref_points = np.array([[0.5, 0.2,0.1], [0.1, 0.6,0.9],[0.2, 0.5,1]])\n",
    "    ref_points=ref_points\n",
    "    algorithm = RNSGA2(\n",
    "        ref_points=ref_points,\n",
    "        pop_size=50,\n",
    "        sampling=FloatRandomSampling(),\n",
    "        crossover=SBX(prob=0.9, eta=5),\n",
    "        mutation=PolynomialMutation(prob=1.0, eta=5),\n",
    "        eliminate_duplicates=False,\n",
    "        weights=np.array([0.3, 0.3,0.3])\n",
    "    )\n",
    "    # 終了条件（この場合は世代数）\n",
    "    termination = get_termination(\"n_gen\", 10)\n",
    "    # アルゴリズムの実行\n",
    "    print(\"GA START!\")\n",
    "    res = minimize(problem,\n",
    "                   algorithm,\n",
    "                   termination,\n",
    "                   #seed=1,\n",
    "                   save_history=True,\n",
    "                   verbose=True)\n",
    "    print(\"計測時間 : \"+str(res.exec_time)+\"[s]\")"
   ]
  },
  {
   "cell_type": "code",
   "execution_count": 10,
   "id": "e15e66fa",
   "metadata": {},
   "outputs": [
    {
     "name": "stdout",
     "output_type": "stream",
     "text": [
      "pop_update -> <POP 0>\n"
     ]
    }
   ],
   "source": [
    "#最後の世代の個体ゲット\n",
    "pop = res.pop\n",
    "\n",
    "#個体を選ぶ\n",
    "pop_no = of.pop_No_update(res,None)#Noneで合計の距離最も短い個体\n",
    "\n",
    "#ファジィ制御更新\n",
    "problem,Kis = of.fuzzy_control_new_set(problem,pop_no,pop) # pop_no = Noneでデフォルト\n",
    "#problem.obj_control.fuzzy_produce(Kis,None)\n",
    "#出力結果\n",
    "drive_result = 0\n",
    "obj_func_value_result = 0\n",
    "rule_result=0\n",
    "member_result=0\n",
    "lms_list = []\n",
    "r = 2\n",
    "for i in range(1,25):\n",
    "    theta = i*math.pi/12\n",
    "    x = r*math.cos(theta)\n",
    "    y = r*math.sin(theta)+2\n",
    "    lms_list.append([x,y-2])\n",
    "if drive_result:\n",
    "    fpos = [1,0,math.pi/2]\n",
    "    lms = np.array([[0,0],[0,0.5],[-0.5,0.5],[-0.5,-0.5],[0.5,-0.5],[0.5,0.5]])\n",
    "    lms = np.array([[0,0],[0,1],[0,2],[0,4]])\n",
    "    lms = np.array(lms_list)\n",
    "    datas = rf.drive_test(problem,Kis,fpos,lms,20)\n",
    "    \n",
    "if obj_func_value_result:\n",
    "    rf.print_obj_func(problem,res,1)\n",
    "if rule_result or member_result:\n",
    "    rf.print_result(member_result,rule_result,problem.obj_control,pop[pop_no],Kis)"
   ]
  },
  {
   "cell_type": "code",
   "execution_count": 11,
   "id": "4e3ebd9a",
   "metadata": {},
   "outputs": [
    {
     "data": {
      "image/png": "[encoded data removed]",
      "text/plain": [
       "<Figure size 216x216 with 1 Axes>"
      ]
     },
     "metadata": {
      "needs_background": "light"
     },
     "output_type": "display_data"
    }
   ],
   "source": [
    "#アルゴリズムの性能評価\n",
    "hv = 1\n",
    "rm = 0\n",
    "eaf.evaluation_algorithm(res,hv,rm)"
   ]
  },
  {
   "cell_type": "code",
   "execution_count": 12,
   "id": "fbb1bf87",
   "metadata": {},
   "outputs": [],
   "source": [
    "#個体のばらつき具合確認\n",
    "if False:\n",
    "    eaf.print_object_space(res,problem,1,2)\n",
    "    eaf.print_norm_object_space(res,1,2)\n",
    "    \n",
    "#個体の選択（重みバージョン）\n",
    "if False:\n",
    "    weights = np.array([0.6,0.2,0.2])\n",
    "    eaf.print_pseudo_weights(res,weights,1,2)\n",
    "    eaf.print_asf(res,weights,1,2)"
   ]
  },
  {
   "cell_type": "code",
   "execution_count": 13,
   "id": "644f38f2",
   "metadata": {},
   "outputs": [
    {
     "name": "stdout",
     "output_type": "stream",
     "text": [
      "Scale f1: [7.25, 8.7]\n",
      "Scale f2: [14.595323592407139, 19.25394207979321]\n"
     ]
    }
   ],
   "source": [
    "F = res.F\n",
    "fl = F.min(axis=0)\n",
    "fu = F.max(axis=0)\n",
    "print(f\"Scale f1: [{fl[0]}, {fu[0]}]\")\n",
    "print(f\"Scale f2: [{fl[1]}, {fu[1]}]\")"
   ]
  },
  {
   "cell_type": "code",
   "execution_count": 36,
   "id": "3cf36c01",
   "metadata": {},
   "outputs": [
    {
     "data": {
      "text/plain": [
       "<pymoo.visualization.scatter.Scatter at 0x21d0049fac0>"
      ]
     },
     "execution_count": 36,
     "metadata": {},
     "output_type": "execute_result"
    },
    {
     "data": {
      "image/png": "[encoded data removed]",
      "text/plain": [
       "<Figure size 576x432 with 1 Axes>"
      ]
     },
     "metadata": {
      "needs_background": "light"
     },
     "output_type": "display_data"
    }
   ],
   "source": [
    "Scatter().add(res.F[:,0:2], label=\"F\").add(ref_points[:,0:2], label=\"ref_points\").show()"
   ]
  },
  {
   "cell_type": "code",
   "execution_count": null,
   "id": "b0249ace",
   "metadata": {},
   "outputs": [],
   "source": []
  }
 ],
 "metadata": {
  "kernelspec": {
   "display_name": "Python 3 (ipykernel)",
   "language": "python",
   "name": "python3"
  },
  "language_info": {
   "codemirror_mode": {
    "name": "ipython",
    "version": 3
   },
   "file_extension": ".py",
   "mimetype": "text/x-python",
   "name": "python",
   "nbconvert_exporter": "python",
   "pygments_lexer": "ipython3",
   "version": "3.9.12"
  }
 },
 "nbformat": 4,
 "nbformat_minor": 5
}
